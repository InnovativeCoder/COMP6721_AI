{
 "cells": [
  {
   "cell_type": "code",
   "execution_count": 1,
   "id": "cf08a25b",
   "metadata": {},
   "outputs": [],
   "source": [
    "import numpy as np\n",
    "import pandas as pd"
   ]
  },
  {
   "cell_type": "code",
   "execution_count": 4,
   "id": "bc3f327c",
   "metadata": {},
   "outputs": [],
   "source": [
    "data = pd.read_csv(\"./dummycsv.csv\")"
   ]
  },
  {
   "cell_type": "code",
   "execution_count": 8,
   "id": "a3fbf76b",
   "metadata": {},
   "outputs": [
    {
     "data": {
      "text/html": [
       "<div>\n",
       "<style scoped>\n",
       "    .dataframe tbody tr th:only-of-type {\n",
       "        vertical-align: middle;\n",
       "    }\n",
       "\n",
       "    .dataframe tbody tr th {\n",
       "        vertical-align: top;\n",
       "    }\n",
       "\n",
       "    .dataframe thead th {\n",
       "        text-align: right;\n",
       "    }\n",
       "</style>\n",
       "<table border=\"1\" class=\"dataframe\">\n",
       "  <thead>\n",
       "    <tr style=\"text-align: right;\">\n",
       "      <th></th>\n",
       "      <th>path</th>\n",
       "      <th>gender</th>\n",
       "      <th>age</th>\n",
       "    </tr>\n",
       "  </thead>\n",
       "  <tbody>\n",
       "    <tr>\n",
       "      <th>0</th>\n",
       "      <td>xyc.jpg</td>\n",
       "      <td>male</td>\n",
       "      <td>young</td>\n",
       "    </tr>\n",
       "    <tr>\n",
       "      <th>1</th>\n",
       "      <td>abc.png</td>\n",
       "      <td>female</td>\n",
       "      <td>old</td>\n",
       "    </tr>\n",
       "    <tr>\n",
       "      <th>2</th>\n",
       "      <td>abc.jpg</td>\n",
       "      <td>male</td>\n",
       "      <td>middle</td>\n",
       "    </tr>\n",
       "    <tr>\n",
       "      <th>3</th>\n",
       "      <td>teate.jpg</td>\n",
       "      <td>female</td>\n",
       "      <td>young</td>\n",
       "    </tr>\n",
       "    <tr>\n",
       "      <th>4</th>\n",
       "      <td>asdas.png</td>\n",
       "      <td>male</td>\n",
       "      <td>old</td>\n",
       "    </tr>\n",
       "  </tbody>\n",
       "</table>\n",
       "</div>"
      ],
      "text/plain": [
       "        path  gender     age\n",
       "0    xyc.jpg    male   young\n",
       "1    abc.png  female     old\n",
       "2    abc.jpg    male  middle\n",
       "3  teate.jpg  female   young\n",
       "4  asdas.png    male     old"
      ]
     },
     "execution_count": 8,
     "metadata": {},
     "output_type": "execute_result"
    }
   ],
   "source": [
    "data"
   ]
  },
  {
   "cell_type": "code",
   "execution_count": 9,
   "id": "84bf9488",
   "metadata": {},
   "outputs": [],
   "source": [
    "y_pred_gender = [\"male\", \"female\", \"female\", \"female\", \"male\"]\n",
    "y_true_gender = data[\"gender\"]"
   ]
  },
  {
   "cell_type": "code",
   "execution_count": 22,
   "id": "adc13883",
   "metadata": {},
   "outputs": [
    {
     "name": "stdout",
     "output_type": "stream",
     "text": [
      "2 2\n"
     ]
    }
   ],
   "source": [
    "male_correct_count_gender = 0\n",
    "female_correct_count_gender = 0\n",
    "for i in range(data.shape[0]):\n",
    "    if(y_true_gender[i]==\"male\" and y_pred_gender[i]==\"male\"):\n",
    "        male_correct_count_gender+=1\n",
    "    if(y_true_gender[i]==\"female\" and y_pred_gender[i]==\"female\"):\n",
    "        female_correct_count_gender+=1\n",
    "print(male_correct_count_gender, female_correct_count_gender)"
   ]
  },
  {
   "cell_type": "code",
   "execution_count": 27,
   "id": "ef75d129",
   "metadata": {},
   "outputs": [],
   "source": [
    "y_pred_age = [\"young\", \"old\", \"old\", \"middle\", \"young\"]\n",
    "y_true_age = data[\"age\"]"
   ]
  },
  {
   "cell_type": "code",
   "execution_count": 29,
   "id": "f471dd06",
   "metadata": {},
   "outputs": [
    {
     "name": "stdout",
     "output_type": "stream",
     "text": [
      "1 0 1\n"
     ]
    }
   ],
   "source": [
    "young_correct_count_age = 0\n",
    "middle_correct_count_age = 0\n",
    "old_correct_count_age = 0\n",
    "for i in range(data.shape[0]):\n",
    "    if(y_true_age[i]==\"young\" and y_pred_age[i]==\"young\"):\n",
    "        young_correct_count_age+=1\n",
    "    if(y_true_age[i]==\"middle\" and y_pred_age[i]==\"middle\"):\n",
    "        middle_correct_count_age+=1\n",
    "    if(y_true_age[i]==\"old\" and y_pred_age[i]==\"old\"):\n",
    "        old_correct_count_age+=1\n",
    "print(young_correct_count_age, middle_correct_count_age, old_correct_count_age)"
   ]
  },
  {
   "cell_type": "code",
   "execution_count": null,
   "id": "2e1260e8",
   "metadata": {},
   "outputs": [],
   "source": []
  }
 ],
 "metadata": {
  "kernelspec": {
   "display_name": "Python 3 (ipykernel)",
   "language": "python",
   "name": "python3"
  },
  "language_info": {
   "codemirror_mode": {
    "name": "ipython",
    "version": 3
   },
   "file_extension": ".py",
   "mimetype": "text/x-python",
   "name": "python",
   "nbconvert_exporter": "python",
   "pygments_lexer": "ipython3",
   "version": "3.9.7"
  }
 },
 "nbformat": 4,
 "nbformat_minor": 5
}
